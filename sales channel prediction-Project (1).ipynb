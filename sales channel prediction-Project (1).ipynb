{
 "cells": [
  {
   "cell_type": "code",
   "execution_count": 1,
   "metadata": {},
   "outputs": [],
   "source": [
    "import numpy as np\n",
    "import pandas as pd\n",
    "import seaborn as sns\n",
    "import matplotlib.pyplot as plt\n",
    "import sklearn\n",
    "from sklearn import linear_model\n",
    "from sklearn.linear_model import LinearRegression\n",
    "from sklearn.metrics import mean_squared_error,mean_absolute_error\n",
    "from sklearn.metrics import r2_score\n",
    "from sklearn.model_selection import train_test_split\n",
    "import warnings\n",
    "warnings.filterwarnings('ignore')"
   ]
  },
  {
   "cell_type": "code",
   "execution_count": 2,
   "metadata": {},
   "outputs": [
    {
     "data": {
      "text/html": [
       "<div>\n",
       "<style scoped>\n",
       "    .dataframe tbody tr th:only-of-type {\n",
       "        vertical-align: middle;\n",
       "    }\n",
       "\n",
       "    .dataframe tbody tr th {\n",
       "        vertical-align: top;\n",
       "    }\n",
       "\n",
       "    .dataframe thead th {\n",
       "        text-align: right;\n",
       "    }\n",
       "</style>\n",
       "<table border=\"1\" class=\"dataframe\">\n",
       "  <thead>\n",
       "    <tr style=\"text-align: right;\">\n",
       "      <th></th>\n",
       "      <th>TV</th>\n",
       "      <th>radio</th>\n",
       "      <th>newspaper</th>\n",
       "      <th>sales</th>\n",
       "    </tr>\n",
       "  </thead>\n",
       "  <tbody>\n",
       "    <tr>\n",
       "      <th>1</th>\n",
       "      <td>230.1</td>\n",
       "      <td>37.8</td>\n",
       "      <td>69.2</td>\n",
       "      <td>22.1</td>\n",
       "    </tr>\n",
       "    <tr>\n",
       "      <th>2</th>\n",
       "      <td>44.5</td>\n",
       "      <td>39.3</td>\n",
       "      <td>45.1</td>\n",
       "      <td>10.4</td>\n",
       "    </tr>\n",
       "    <tr>\n",
       "      <th>3</th>\n",
       "      <td>17.2</td>\n",
       "      <td>45.9</td>\n",
       "      <td>69.3</td>\n",
       "      <td>9.3</td>\n",
       "    </tr>\n",
       "    <tr>\n",
       "      <th>4</th>\n",
       "      <td>151.5</td>\n",
       "      <td>41.3</td>\n",
       "      <td>58.5</td>\n",
       "      <td>18.5</td>\n",
       "    </tr>\n",
       "    <tr>\n",
       "      <th>5</th>\n",
       "      <td>180.8</td>\n",
       "      <td>10.8</td>\n",
       "      <td>58.4</td>\n",
       "      <td>12.9</td>\n",
       "    </tr>\n",
       "  </tbody>\n",
       "</table>\n",
       "</div>"
      ],
      "text/plain": [
       "      TV  radio  newspaper  sales\n",
       "1  230.1   37.8       69.2   22.1\n",
       "2   44.5   39.3       45.1   10.4\n",
       "3   17.2   45.9       69.3    9.3\n",
       "4  151.5   41.3       58.5   18.5\n",
       "5  180.8   10.8       58.4   12.9"
      ]
     },
     "execution_count": 2,
     "metadata": {},
     "output_type": "execute_result"
    }
   ],
   "source": [
    "d2=pd.read_csv('sales channel.csv')\n",
    "d2.head()"
   ]
  },
  {
   "cell_type": "code",
   "execution_count": null,
   "metadata": {},
   "outputs": [],
   "source": [
    "#there are 3 attributes named -tv,radio and newspaper .and output is sales."
   ]
  },
  {
   "cell_type": "code",
   "execution_count": 3,
   "metadata": {},
   "outputs": [
    {
     "data": {
      "text/plain": [
       " TV          0\n",
       "radio        0\n",
       "newspaper    0\n",
       "sales        0\n",
       "dtype: int64"
      ]
     },
     "execution_count": 3,
     "metadata": {},
     "output_type": "execute_result"
    }
   ],
   "source": [
    "d2.isnull().sum()"
   ]
  },
  {
   "cell_type": "code",
   "execution_count": 4,
   "metadata": {},
   "outputs": [],
   "source": [
    "#there are no null values "
   ]
  },
  {
   "cell_type": "code",
   "execution_count": 5,
   "metadata": {},
   "outputs": [
    {
     "data": {
      "text/plain": [
       "(200, 4)"
      ]
     },
     "execution_count": 5,
     "metadata": {},
     "output_type": "execute_result"
    }
   ],
   "source": [
    "d2.shape"
   ]
  },
  {
   "cell_type": "code",
   "execution_count": 6,
   "metadata": {},
   "outputs": [
    {
     "name": "stdout",
     "output_type": "stream",
     "text": [
      "<class 'pandas.core.frame.DataFrame'>\n",
      "Int64Index: 200 entries, 1 to 200\n",
      "Data columns (total 4 columns):\n",
      " #   Column     Non-Null Count  Dtype  \n",
      "---  ------     --------------  -----  \n",
      " 0    TV        200 non-null    float64\n",
      " 1   radio      200 non-null    float64\n",
      " 2   newspaper  200 non-null    float64\n",
      " 3   sales      200 non-null    float64\n",
      "dtypes: float64(4)\n",
      "memory usage: 7.8 KB\n"
     ]
    }
   ],
   "source": [
    "d2.info()"
   ]
  },
  {
   "cell_type": "code",
   "execution_count": 7,
   "metadata": {},
   "outputs": [
    {
     "data": {
      "text/html": [
       "<div>\n",
       "<style scoped>\n",
       "    .dataframe tbody tr th:only-of-type {\n",
       "        vertical-align: middle;\n",
       "    }\n",
       "\n",
       "    .dataframe tbody tr th {\n",
       "        vertical-align: top;\n",
       "    }\n",
       "\n",
       "    .dataframe thead th {\n",
       "        text-align: right;\n",
       "    }\n",
       "</style>\n",
       "<table border=\"1\" class=\"dataframe\">\n",
       "  <thead>\n",
       "    <tr style=\"text-align: right;\">\n",
       "      <th></th>\n",
       "      <th>TV</th>\n",
       "      <th>radio</th>\n",
       "      <th>newspaper</th>\n",
       "      <th>sales</th>\n",
       "    </tr>\n",
       "  </thead>\n",
       "  <tbody>\n",
       "    <tr>\n",
       "      <th>count</th>\n",
       "      <td>200.000000</td>\n",
       "      <td>200.000000</td>\n",
       "      <td>200.000000</td>\n",
       "      <td>200.000000</td>\n",
       "    </tr>\n",
       "    <tr>\n",
       "      <th>mean</th>\n",
       "      <td>147.042500</td>\n",
       "      <td>23.264000</td>\n",
       "      <td>30.554000</td>\n",
       "      <td>14.022500</td>\n",
       "    </tr>\n",
       "    <tr>\n",
       "      <th>std</th>\n",
       "      <td>85.854236</td>\n",
       "      <td>14.846809</td>\n",
       "      <td>21.778621</td>\n",
       "      <td>5.217457</td>\n",
       "    </tr>\n",
       "    <tr>\n",
       "      <th>min</th>\n",
       "      <td>0.700000</td>\n",
       "      <td>0.000000</td>\n",
       "      <td>0.300000</td>\n",
       "      <td>1.600000</td>\n",
       "    </tr>\n",
       "    <tr>\n",
       "      <th>25%</th>\n",
       "      <td>74.375000</td>\n",
       "      <td>9.975000</td>\n",
       "      <td>12.750000</td>\n",
       "      <td>10.375000</td>\n",
       "    </tr>\n",
       "    <tr>\n",
       "      <th>50%</th>\n",
       "      <td>149.750000</td>\n",
       "      <td>22.900000</td>\n",
       "      <td>25.750000</td>\n",
       "      <td>12.900000</td>\n",
       "    </tr>\n",
       "    <tr>\n",
       "      <th>75%</th>\n",
       "      <td>218.825000</td>\n",
       "      <td>36.525000</td>\n",
       "      <td>45.100000</td>\n",
       "      <td>17.400000</td>\n",
       "    </tr>\n",
       "    <tr>\n",
       "      <th>max</th>\n",
       "      <td>296.400000</td>\n",
       "      <td>49.600000</td>\n",
       "      <td>114.000000</td>\n",
       "      <td>27.000000</td>\n",
       "    </tr>\n",
       "  </tbody>\n",
       "</table>\n",
       "</div>"
      ],
      "text/plain": [
       "               TV       radio   newspaper       sales\n",
       "count  200.000000  200.000000  200.000000  200.000000\n",
       "mean   147.042500   23.264000   30.554000   14.022500\n",
       "std     85.854236   14.846809   21.778621    5.217457\n",
       "min      0.700000    0.000000    0.300000    1.600000\n",
       "25%     74.375000    9.975000   12.750000   10.375000\n",
       "50%    149.750000   22.900000   25.750000   12.900000\n",
       "75%    218.825000   36.525000   45.100000   17.400000\n",
       "max    296.400000   49.600000  114.000000   27.000000"
      ]
     },
     "execution_count": 7,
     "metadata": {},
     "output_type": "execute_result"
    }
   ],
   "source": [
    "d2.describe()"
   ]
  },
  {
   "cell_type": "code",
   "execution_count": 8,
   "metadata": {},
   "outputs": [],
   "source": [
    "#there are 200 rows,median is higher than mean for tv,so it is left skewed data\n",
    "#there is little difference between 75% and max for tv and newspaper.so there are chences for the presence of outliers."
   ]
  },
  {
   "cell_type": "code",
   "execution_count": 9,
   "metadata": {},
   "outputs": [
    {
     "data": {
      "text/html": [
       "<div>\n",
       "<style scoped>\n",
       "    .dataframe tbody tr th:only-of-type {\n",
       "        vertical-align: middle;\n",
       "    }\n",
       "\n",
       "    .dataframe tbody tr th {\n",
       "        vertical-align: top;\n",
       "    }\n",
       "\n",
       "    .dataframe thead th {\n",
       "        text-align: right;\n",
       "    }\n",
       "</style>\n",
       "<table border=\"1\" class=\"dataframe\">\n",
       "  <thead>\n",
       "    <tr style=\"text-align: right;\">\n",
       "      <th></th>\n",
       "      <th>TV</th>\n",
       "      <th>radio</th>\n",
       "      <th>newspaper</th>\n",
       "      <th>sales</th>\n",
       "    </tr>\n",
       "  </thead>\n",
       "  <tbody>\n",
       "    <tr>\n",
       "      <th>TV</th>\n",
       "      <td>1.000000</td>\n",
       "      <td>0.054809</td>\n",
       "      <td>0.056648</td>\n",
       "      <td>0.782224</td>\n",
       "    </tr>\n",
       "    <tr>\n",
       "      <th>radio</th>\n",
       "      <td>0.054809</td>\n",
       "      <td>1.000000</td>\n",
       "      <td>0.354104</td>\n",
       "      <td>0.576223</td>\n",
       "    </tr>\n",
       "    <tr>\n",
       "      <th>newspaper</th>\n",
       "      <td>0.056648</td>\n",
       "      <td>0.354104</td>\n",
       "      <td>1.000000</td>\n",
       "      <td>0.228299</td>\n",
       "    </tr>\n",
       "    <tr>\n",
       "      <th>sales</th>\n",
       "      <td>0.782224</td>\n",
       "      <td>0.576223</td>\n",
       "      <td>0.228299</td>\n",
       "      <td>1.000000</td>\n",
       "    </tr>\n",
       "  </tbody>\n",
       "</table>\n",
       "</div>"
      ],
      "text/plain": [
       "                 TV     radio  newspaper     sales\n",
       " TV        1.000000  0.054809   0.056648  0.782224\n",
       "radio      0.054809  1.000000   0.354104  0.576223\n",
       "newspaper  0.056648  0.354104   1.000000  0.228299\n",
       "sales      0.782224  0.576223   0.228299  1.000000"
      ]
     },
     "execution_count": 9,
     "metadata": {},
     "output_type": "execute_result"
    }
   ],
   "source": [
    "d2cor=d2.corr()\n",
    "d2cor"
   ]
  },
  {
   "cell_type": "code",
   "execution_count": 10,
   "metadata": {},
   "outputs": [
    {
     "data": {
      "text/plain": [
       "<matplotlib.axes._subplots.AxesSubplot at 0x219ebc45910>"
      ]
     },
     "execution_count": 10,
     "metadata": {},
     "output_type": "execute_result"
    },
    {
     "data": {
      "image/png": "[encoded data removed]",
      "text/plain": [
       "<Figure size 360x288 with 2 Axes>"
      ]
     },
     "metadata": {
      "needs_background": "light"
     },
     "output_type": "display_data"
    }
   ],
   "source": [
    "plt.figure(figsize=(5,4))\n",
    "sns.heatmap(d2cor,cmap='Blues',annot=True)"
   ]
  },
  {
   "cell_type": "code",
   "execution_count": 11,
   "metadata": {},
   "outputs": [],
   "source": [
    "#sales only has positive correlation with tv,radio and newspaper.\n",
    "#sales has better correlation with tv and less correlation with newspaper"
   ]
  },
  {
   "cell_type": "code",
   "execution_count": 17,
   "metadata": {},
   "outputs": [],
   "source": [
    "collist=d2.columns.values\n",
    "ncol=9\n",
    "nrows=7"
   ]
  },
  {
   "cell_type": "code",
   "execution_count": 18,
   "metadata": {},
   "outputs": [
    {
     "data": {
      "image/png": "[encoded data removed]",
      "text/plain": [
       "<Figure size 648x1944 with 4 Axes>"
      ]
     },
     "metadata": {
      "needs_background": "light"
     },
     "output_type": "display_data"
    }
   ],
   "source": [
    "plt.figure(figsize=(ncol,3*ncol))\n",
    "for i in range(0,len(collist)):\n",
    "    plt.subplot(nrows,ncol,i+1)\n",
    "    sns.boxplot(d2[collist[i]],color='green',orient='v')\n",
    "    plt.tight_layout()"
   ]
  },
  {
   "cell_type": "code",
   "execution_count": null,
   "metadata": {},
   "outputs": [],
   "source": [
    "#there are some outliers in newspaper column"
   ]
  },
  {
   "cell_type": "code",
   "execution_count": 19,
   "metadata": {},
   "outputs": [
    {
     "data": {
      "text/plain": [
       " TV         -0.069853\n",
       "radio        0.094175\n",
       "newspaper    0.894720\n",
       "sales        0.407571\n",
       "dtype: float64"
      ]
     },
     "execution_count": 19,
     "metadata": {},
     "output_type": "execute_result"
    }
   ],
   "source": [
    "d2.skew()"
   ]
  },
  {
   "cell_type": "code",
   "execution_count": 20,
   "metadata": {},
   "outputs": [
    {
     "data": {
      "text/plain": [
       "<matplotlib.axes._subplots.AxesSubplot at 0x219ecd06640>"
      ]
     },
     "execution_count": 20,
     "metadata": {},
     "output_type": "execute_result"
    },
    {
     "data": {
      "image/png": "[encoded data removed]",
      "text/plain": [
       "<Figure size 432x288 with 1 Axes>"
      ]
     },
     "metadata": {
      "needs_background": "light"
     },
     "output_type": "display_data"
    }
   ],
   "source": [
    "sns.distplot(d2['radio'])"
   ]
  },
  {
   "cell_type": "code",
   "execution_count": 21,
   "metadata": {},
   "outputs": [
    {
     "data": {
      "text/plain": [
       "<matplotlib.axes._subplots.AxesSubplot at 0x219ecd96be0>"
      ]
     },
     "execution_count": 21,
     "metadata": {},
     "output_type": "execute_result"
    },
    {
     "data": {
      "image/png": "[encoded data removed]",
      "text/plain": [
       "<Figure size 432x288 with 1 Axes>"
      ]
     },
     "metadata": {
      "needs_background": "light"
     },
     "output_type": "display_data"
    }
   ],
   "source": [
    "sns.distplot(d2['newspaper'])"
   ]
  },
  {
   "cell_type": "code",
   "execution_count": 23,
   "metadata": {},
   "outputs": [],
   "source": [
    "for col in d2.columns:\n",
    "    if d2.skew().loc[col]>0.55:\n",
    "        d2[col]=np.log1p(d2[col])"
   ]
  },
  {
   "cell_type": "code",
   "execution_count": 24,
   "metadata": {},
   "outputs": [
    {
     "data": {
      "image/png": "[encoded data removed]",
      "text/plain": [
       "<Figure size 1440x1440 with 4 Axes>"
      ]
     },
     "metadata": {
      "needs_background": "light"
     },
     "output_type": "display_data"
    }
   ],
   "source": [
    "plt.figure(figsize=(20,20))\n",
    "for i in range (0,len(collist)):\n",
    "    plt.subplot(nrows,ncol,i+1)\n",
    "    sns.distplot(d2[collist[i]])"
   ]
  },
  {
   "cell_type": "code",
   "execution_count": 25,
   "metadata": {},
   "outputs": [
    {
     "data": {
      "text/plain": [
       "<seaborn.axisgrid.PairGrid at 0x219ecd0b610>"
      ]
     },
     "execution_count": 25,
     "metadata": {},
     "output_type": "execute_result"
    },
    {
     "data": {
      "image/png": "[encoded data removed]",
      "text/plain": [
       "<Figure size 720x720 with 20 Axes>"
      ]
     },
     "metadata": {
      "needs_background": "light"
     },
     "output_type": "display_data"
    }
   ],
   "source": [
    "sns.pairplot(d2)"
   ]
  },
  {
   "cell_type": "code",
   "execution_count": null,
   "metadata": {},
   "outputs": [],
   "source": [
    "#sales on tv is more concentrated towards the goodness of fit line\n",
    "#sales on newspaper is scattered\n",
    "#therfore  tv will be the right channel to improve sales"
   ]
  },
  {
   "cell_type": "code",
   "execution_count": 26,
   "metadata": {},
   "outputs": [
    {
     "data": {
      "text/plain": [
       "array([[9.69852266e-01, 9.81522472e-01, 1.27054817e+00, 1.55205313e+00],\n",
       "       [1.19737623e+00, 1.08280781e+00, 7.84008452e-01, 6.96046111e-01],\n",
       "       [1.51615499e+00, 1.52846331e+00, 1.27219508e+00, 9.07405869e-01],\n",
       "       [5.20496822e-02, 1.21785493e+00, 1.07922051e+00, 8.60330287e-01],\n",
       "       [3.94182198e-01, 8.41613655e-01, 1.07727442e+00, 2.15683025e-01],\n",
       "       [1.61540845e+00, 1.73103399e+00, 1.36239293e+00, 1.31091086e+00],\n",
       "       [1.04557682e+00, 6.43904671e-01, 5.26522686e-02, 4.27042783e-01],\n",
       "       [3.13436589e-01, 2.47406325e-01, 7.16694174e-01, 1.58039455e-01],\n",
       "       [1.61657614e+00, 1.42906863e+00, 2.84612391e+00, 1.77205942e+00],\n",
       "       [6.16042873e-01, 1.39530685e+00, 6.14011337e-02, 6.57617064e-01],\n",
       "       [9.45155670e-01, 1.17923146e+00, 8.52446540e-02, 1.04190753e+00],\n",
       "       [7.90028350e-01, 4.96973404e-02, 1.78601844e+00, 6.48970529e-01],\n",
       "       [1.43908760e+00, 7.99208859e-01, 1.21484164e+00, 9.26620392e-01],\n",
       "       [5.78501712e-01, 1.05768905e+00, 1.21367806e+00, 8.30547775e-01],\n",
       "       [6.66253447e-01, 6.50657027e-01, 8.06377739e-01, 9.56402904e-01],\n",
       "       [5.64664612e-01, 1.65000572e+00, 9.64860512e-01, 1.60969670e+00],\n",
       "       [9.25304978e-01, 9.00494200e-01, 1.84160153e+00, 2.92541119e-01],\n",
       "       [1.56887609e+00, 1.10306488e+00, 1.02549162e+00, 1.99398717e+00],\n",
       "       [9.08957349e-01, 1.86635121e-01, 2.23359761e-01, 5.23115400e-01],\n",
       "       [3.00679600e-03, 4.29449843e-02, 1.76370432e-01, 1.10963873e-01],\n",
       "       [8.33232798e-01, 2.99534513e-01, 9.75543442e-01, 7.64257669e-01],\n",
       "       [1.05509347e+00, 1.22649795e+00, 5.26522686e-02, 2.92541119e-01],\n",
       "       [1.56286250e+00, 4.97243498e-01, 8.91765481e-01, 1.61834324e+00],\n",
       "       [9.48833887e-01, 4.29719938e-01, 1.73604614e-01, 2.83894584e-01],\n",
       "       [9.89527805e-01, 7.20071247e-01, 2.23359761e-01, 8.30547775e-01],\n",
       "       [1.35285385e+00, 1.33453565e+00, 1.53572588e-01, 3.88613736e-01],\n",
       "       [4.83714657e-02, 4.07572210e-01, 6.28334214e-01, 1.87821967e-01],\n",
       "       [1.08662104e+00, 4.43224650e-01, 2.39660097e-02, 3.60752677e-01],\n",
       "       [1.18820988e+00, 2.59020377e-01, 2.39660097e-02, 9.37188380e-01],\n",
       "       [8.92609721e-01, 4.90491142e-01, 6.70723519e-01, 6.76831588e-01],\n",
       "       [1.70316018e+00, 3.40048650e-01, 7.35314421e-01, 1.41755147e+00],\n",
       "       [3.98677796e-01, 3.95958157e-01, 6.08170276e-01, 4.07828260e-01],\n",
       "       [5.82004775e-01, 1.46958277e+00, 3.24899648e-01, 8.49762299e-01],\n",
       "       [1.38438142e+00, 2.20396901e-01, 3.34451957e+00, 6.48970529e-01],\n",
       "       [5.99520091e-01, 1.47633512e+00, 1.18579832e+00, 8.68976822e-01],\n",
       "       [1.67747105e+00, 1.29402151e+00, 1.04342355e+00, 2.34897549e-01],\n",
       "       [1.39956136e+00, 1.38666383e+00, 1.57508094e+00, 2.18613240e+00],\n",
       "       [8.44734522e-01, 1.76479577e+00, 7.98969262e-01, 1.30178396e-01],\n",
       "       [1.21372386e+00, 2.32010953e-01, 5.01110165e-01, 7.53689682e-01],\n",
       "       [9.45330823e-01, 9.74770116e-01, 3.97232773e-01, 1.43676599e+00],\n",
       "       [6.47570443e-01, 6.50927121e-02, 3.83123413e-01, 4.95254341e-01],\n",
       "       [3.49810063e-01, 6.84418807e-01, 6.11088192e-01, 5.91326959e-01],\n",
       "       [1.71133400e+00, 2.99534513e-01, 2.45684129e+00, 1.28304980e+00],\n",
       "       [6.98948705e-01, 1.00367020e+00, 1.82080499e-01, 2.15683025e-01],\n",
       "       [1.42390765e+00, 1.64487393e-01, 7.37929006e-01, 1.06112206e+00],\n",
       "       [3.27623995e-01, 5.15880000e-02, 3.79569023e-01, 1.68607443e-01],\n",
       "       [6.69581357e-01, 9.02384859e-01, 5.20181253e-01, 6.57617064e-01],\n",
       "       [1.08428567e+00, 1.23135965e+00, 2.11432303e-01, 1.76341289e+00],\n",
       "       [9.35989321e-01, 5.03995854e-01, 8.98604633e-01, 1.49392920e-01],\n",
       "       [9.35814168e-01, 7.80842451e-01, 5.54348797e-01, 8.30547775e-01],\n",
       "       [6.16042873e-01, 1.36154507e+00, 4.84973876e-01, 5.03900877e-01],\n",
       "       [5.44638766e-01, 9.22641928e-01, 1.88248706e+00, 6.38402541e-01],\n",
       "       [8.09879042e-01, 1.24486436e+00, 6.37023472e-01, 1.64812575e+00],\n",
       "       [4.15200577e-01, 1.54872038e+00, 1.08310291e+00, 1.37912242e+00],\n",
       "       [1.35051848e+00, 3.73810430e-01, 3.76993277e-01, 1.18697718e+00],\n",
       "       [6.05533683e-01, 1.76479577e+00, 1.10802581e+00, 1.85948550e+00],\n",
       "       [1.63175608e+00, 3.26543937e-01, 6.87212442e-01, 1.63755776e+00],\n",
       "       [1.26606546e-01, 2.74415749e-01, 3.30038009e-01, 1.58039455e-01],\n",
       "       [7.44488528e-01, 1.77830048e+00, 5.81572480e-01, 1.87870003e+00],\n",
       "       [7.43320840e-01, 4.21076922e-01, 9.49881463e-01, 8.41115763e-01],\n",
       "       [1.09228433e+00, 1.43582099e+00, 5.10248025e-02, 1.13798015e+00],\n",
       "       [1.33417085e+00, 1.31238792e+00, 1.00286604e+00, 1.95555812e+00],\n",
       "       [1.07727954e+00, 5.24252922e-01, 2.19471827e-01, 3.22323631e-01],\n",
       "       [5.17781948e-01, 4.27829278e-01, 1.05566656e+00, 4.32326777e-03],\n",
       "       [1.86158622e-01, 1.31914027e+00, 2.83100406e-01, 7.64257669e-01],\n",
       "       [9.11292725e-01, 9.42898996e-01, 2.90546785e+00, 9.07405869e-01],\n",
       "       [1.34917564e+00, 9.02114765e-02, 2.30235172e+00, 8.68976822e-01],\n",
       "       [9.04082253e-02, 5.91776482e-01, 8.52963631e-01, 1.19610408e-01],\n",
       "       [1.05509347e+00, 2.86029801e-01, 7.73142110e-01, 9.37188380e-01],\n",
       "       [8.14549794e-01, 1.39341619e+00, 2.15376414e-01, 1.59048218e+00],\n",
       "       [6.07869059e-01, 4.95352838e-01, 6.11088192e-01, 8.21901240e-01],\n",
       "       [4.34876116e-01, 6.05281194e-01, 3.86666917e-01, 3.11755643e-01],\n",
       "       [1.40405696e+00, 6.57409383e-01, 1.64915357e-01, 1.00347849e+00],\n",
       "       [2.06009314e-01, 1.18598381e+00, 3.72427314e-01, 5.80758971e-01],\n",
       "       [7.74848409e-01, 9.02114765e-02, 5.86562415e-01, 5.72112435e-01],\n",
       "       [1.51965805e+00, 1.37991148e+00, 1.56313695e+00, 1.02269301e+00],\n",
       "       [1.39588315e+00, 1.46283041e+00, 8.77565597e-02, 1.36855443e+00],\n",
       "       [3.09933525e-01, 3.53553362e-01, 4.99651363e-01, 3.41057791e-02],\n",
       "       [1.65394214e+00, 4.48086346e-01, 9.38703084e-01, 1.67598681e+00],\n",
       "       [3.62479475e-01, 1.05093669e+00, 3.36073419e-02, 5.80758971e-01],\n",
       "       [8.24883830e-01, 2.32010953e-01, 5.44963848e-03, 4.27042783e-01],\n",
       "       [1.08311798e+00, 1.29402151e+00, 5.57405478e-01, 3.30970166e-01],\n",
       "       [8.37728396e-01, 2.00139833e-01, 4.14630893e-01, 5.23115400e-01],\n",
       "       [9.18298852e-01, 1.43393033e+00, 5.17024490e-01, 8.11813615e-02],\n",
       "       [7.76016097e-01, 1.33264499e+00, 4.58678354e-01, 1.47519504e+00],\n",
       "       [5.38975481e-01, 3.28434597e-01, 1.21137770e+00, 2.26251013e-01],\n",
       "       [8.26051518e-01, 2.86029801e-01, 3.70167575e-01, 3.88613736e-01],\n",
       "       [4.24366926e-01, 1.17058844e+00, 1.16718007e+00, 3.79967201e-01],\n",
       "       [6.85928986e-01, 1.50982681e-01, 1.33777598e+00, 2.15683025e-01],\n",
       "       [4.34876116e-01, 1.65675807e+00, 9.32206797e-01, 5.14468865e-01],\n",
       "       [1.48792614e-01, 1.24000266e+00, 9.49881463e-01, 5.42329924e-01],\n",
       "       [1.38303858e+00, 1.46958277e+00, 4.31771253e-01, 1.29169634e+00],\n",
       "       [8.25058983e-01, 6.91171163e-01, 1.08890219e+00, 1.03326100e+00],\n",
       "       [1.21273132e+00, 8.93741844e-01, 1.32054278e+00, 1.57126765e+00],\n",
       "       [4.62900623e-01, 6.25538262e-01, 7.82823783e-01, 4.84686354e-01],\n",
       "       [1.89836839e-01, 5.62876398e-01, 9.64860512e-01, 5.52897912e-01],\n",
       "       [5.90353742e-01, 1.33453565e+00, 1.41338292e+00, 4.46257307e-01],\n",
       "       [4.42057396e-01, 1.52873340e-01, 2.04427620e-02, 2.83894584e-01],\n",
       "       [1.66579418e+00, 1.28537849e+00, 9.27782496e-01, 2.18613240e+00],\n",
       "       [1.38283424e-01, 1.24486436e+00, 8.03913514e-01, 6.10541482e-01],\n",
       "       [8.79940308e-01, 1.28051680e+00, 8.96329405e-01, 4.46257307e-01],\n",
       "       [1.74402926e+00, 8.80237132e-01, 1.70167940e+00, 1.87870003e+00],\n",
       "       [1.55486384e+00, 8.88880147e-01, 5.10248025e-02, 1.49392920e-01],\n",
       "       [4.77088029e-01, 4.09462869e-01, 2.47590032e-01, 1.30178396e-01],\n",
       "       [1.06443498e+00, 7.45190011e-01, 1.51863300e+00, 1.28304980e+00],\n",
       "       [1.06755854e-01, 1.56222509e+00, 1.08890219e+00, 9.94831951e-01],\n",
       "       [1.42507534e+00, 8.28108943e-01, 3.13648799e-01, 1.31091086e+00],\n",
       "       [6.61407543e-01, 1.55061104e+00, 3.83980451e-02, 1.02269301e+00],\n",
       "       [1.56403019e+00, 1.54385868e+00, 1.47797897e-01, 1.67598681e+00],\n",
       "       [1.26527727e+00, 2.45515665e-01, 1.48247527e+00, 1.11011909e+00],\n",
       "       [9.19641692e-01, 1.01717491e+00, 1.03966271e+00, 1.19610408e-01],\n",
       "       [1.10530405e+00, 9.95027184e-01, 3.83980451e-02, 1.49440956e+00],\n",
       "       [3.34630122e-01, 5.31005278e-01, 2.23221187e+00, 1.48912557e-02],\n",
       "       [7.30476274e-01, 1.79882765e-01, 8.02433628e-01, 3.60752677e-01],\n",
       "       [8.03865450e-01, 1.58923451e+00, 4.81719434e-01, 1.10963873e-01],\n",
       "       [8.40063771e-01, 7.92456503e-01, 9.60559566e-01, 2.73326596e-01],\n",
       "       [9.15759131e-02, 6.05281194e-01, 1.47797897e-01, 3.50184689e-01],\n",
       "       [8.24883830e-01, 1.51684926e+00, 4.54860486e-01, 8.88191346e-01],\n",
       "       [2.49213762e-01, 9.20751268e-01, 1.42462565e+00, 3.60752677e-01],\n",
       "       [1.49046586e+00, 4.90491142e-01, 5.44963848e-03, 1.42619800e+00],\n",
       "       [6.70544700e-02, 2.38763309e-01, 8.11290499e-01, 2.83894584e-01],\n",
       "       [1.49747198e+00, 1.05606848e-01, 9.09914138e-01, 1.34933991e+00],\n",
       "       [8.98623313e-01, 1.40881156e+00, 3.97715381e-01, 4.65471830e-01],\n",
       "       [2.79573643e-01, 7.65447079e-01, 6.45474575e-01, 2.26251013e-01],\n",
       "       [9.62846140e-01, 6.10142891e-01, 1.35014993e+00, 1.09090457e+00],\n",
       "       [6.98773552e-01, 7.74090095e-01, 1.60773209e-01, 6.57617064e-01],\n",
       "       [1.62591764e+00, 1.05579839e+00, 9.14407166e-01, 1.42619800e+00],\n",
       "       [7.80511695e-01, 1.57086811e+00, 9.61168900e-01, 1.00347849e+00],\n",
       "       [8.55418865e-01, 1.73778635e+00, 1.98773715e+00, 2.05163074e+00],\n",
       "       [1.02105537e+00, 7.60585383e-01, 7.32693914e-01, 8.30547775e-01],\n",
       "       [1.70882347e+00, 1.10306488e+00, 1.01931949e+00, 2.38692417e+00],\n",
       "       [1.37971067e+00, 1.37504978e+00, 7.30067459e-01, 2.54112072e-01],\n",
       "       [1.61891151e+00, 2.65772733e-01, 2.33908348e+00, 1.59912871e+00],\n",
       "       [8.49580427e-01, 6.91171163e-01, 7.84008452e-01, 1.07169004e+00],\n",
       "       [1.28612050e+00, 1.03554132e+00, 1.20964184e+00, 6.19188018e-01],\n",
       "       [1.15300409e+00, 1.60273923e+00, 1.04342355e+00, 4.65471830e-01],\n",
       "       [1.41806922e+00, 1.06255074e+00, 9.49881463e-01, 8.68976822e-01],\n",
       "       [1.47896413e+00, 3.80562786e-01, 1.10232184e+00, 1.30226433e+00],\n",
       "       [1.21489154e+00, 1.77992105e-01, 9.84691656e-02, 8.49762299e-01],\n",
       "       [4.42057396e-01, 1.39341619e+00, 2.49891695e+00, 1.28304980e+00],\n",
       "       [8.59914463e-01, 4.22967582e-01, 6.03090598e-01, 5.99973494e-01],\n",
       "       [5.44813920e-01, 8.19465927e-01, 1.37149091e+00, 9.94831951e-01],\n",
       "       [8.57754241e-01, 6.70914095e-01, 5.87536170e-01, 1.16776266e+00],\n",
       "       [4.95595880e-01, 1.18598381e+00, 4.78455813e-01, 6.96046111e-01],\n",
       "       [5.93681653e-01, 5.71519414e-01, 6.16902040e-01, 5.03900877e-01],\n",
       "       [7.87313476e-02, 1.44257334e+00, 9.84079613e-01, 7.15260635e-01],\n",
       "       [1.08662104e+00, 1.07794612e+00, 1.01931949e+00, 1.58039455e-01],\n",
       "       [1.12281936e+00, 1.73778635e+00, 7.63754925e-01, 2.18613240e+00],\n",
       "       [1.27327593e+00, 1.15033137e+00, 6.89470491e-01, 5.99973494e-01],\n",
       "       [1.19504085e+00, 1.71239749e-01, 9.31004638e-02, 7.53689682e-01],\n",
       "       [1.56070228e+00, 6.32290618e-01, 5.60454105e-01, 3.99181724e-01],\n",
       "       [3.04095087e-01, 1.00367020e+00, 8.71002056e-01, 4.65471830e-01],\n",
       "       [5.90353742e-01, 2.43084817e-03, 4.99651363e-01, 4.95254341e-01],\n",
       "       [2.83251860e-01, 1.10981724e+00, 5.81572480e-01, 9.56402904e-01],\n",
       "       [4.75920341e-01, 1.46120984e-01, 9.27631678e-01, 3.03109107e-01],\n",
       "       [1.66912209e+00, 7.87594807e-01, 1.44741340e+00, 2.07949180e+00],\n",
       "       [6.20538471e-01, 1.36640677e+00, 9.12162833e-01, 2.45465537e-01],\n",
       "       [3.21989902e-02, 1.48308748e+00, 8.98266528e-02, 7.53689682e-01],\n",
       "       [1.58037782e+00, 9.20751268e-01, 7.86515394e-01, 1.29169634e+00],\n",
       "       [1.79152496e-01, 3.28434597e-01, 4.84973876e-01, 2.15683025e-01],\n",
       "       [2.97264113e-01, 3.48691665e-01, 3.50733806e-01, 7.25348259e-02],\n",
       "       [7.16288868e-01, 8.46475352e-01, 8.84885660e-01, 1.38824932e-01],\n",
       "       [4.82926468e-01, 3.48691665e-01, 1.47797897e-01, 1.68607443e-01],\n",
       "       [1.92172214e-01, 9.13998912e-01, 1.18579832e+00, 7.64257669e-01],\n",
       "       [3.48467222e-01, 5.78271770e-01, 1.50041289e+00, 4.07828260e-01],\n",
       "       [1.02123053e+00, 1.34128800e+00, 1.50271477e+00, 4.07828260e-01],\n",
       "       [1.50798117e+00, 9.68017760e-01, 4.07407066e-02, 1.15719467e+00],\n",
       "       [6.97781017e-01, 1.21974559e+00, 1.59230072e-01, 3.50184689e-01],\n",
       "       [7.98202165e-01, 2.26879163e-02, 1.06158668e+00, 5.91326959e-01],\n",
       "       [1.60273904e+00, 8.55118367e-01, 1.33244410e+00, 1.87821967e-01],\n",
       "       [1.13315340e+00, 7.87594807e-01, 2.17380661e-01, 1.08033658e+00],\n",
       "       [2.03849092e-01, 1.59625696e-01, 8.40336874e-01, 9.17493494e-02],\n",
       "       [1.48813048e+00, 2.13644545e-01, 3.04037967e-01, 1.23405277e+00],\n",
       "       [2.49388915e-01, 1.09145083e+00, 6.11444087e-01, 4.46257307e-01],\n",
       "       [8.79940308e-01, 1.34128800e+00, 5.86562415e-01, 4.84686354e-01],\n",
       "       [1.51633014e+00, 1.73103399e+00, 6.98075932e-01, 2.49356478e+00],\n",
       "       [1.18353913e+00, 4.68343414e-01, 1.09281891e-01, 1.18697718e+00],\n",
       "       [2.70407294e-01, 1.04418434e+00, 5.04310591e-01, 4.46257307e-01],\n",
       "       [1.51399477e+00, 1.41556392e+00, 6.20584438e-02, 4.27042783e-01],\n",
       "       [2.16693657e-01, 8.95632503e-01, 2.66101678e-01, 2.73326596e-01],\n",
       "       [1.11601758e-01, 1.39530685e+00, 1.06804051e+00, 6.76831588e-01],\n",
       "       [8.34400486e-01, 1.20624088e+00, 2.23552795e-01, 3.50184689e-01],\n",
       "       [1.06075676e+00, 1.18598381e+00, 3.13648799e-01, 1.02269301e+00],\n",
       "       [1.64127273e+00, 1.33264499e+00, 1.31262383e+00, 2.33984859e+00],\n",
       "       [1.24659427e+00, 1.32616272e-01, 3.24899648e-01, 6.87399576e-01],\n",
       "       [6.76762637e-01, 1.47444446e+00, 1.47942634e-01, 1.64812575e+00],\n",
       "       [8.80728498e-02, 1.42906863e+00, 1.90494741e-01, 7.15260635e-01],\n",
       "       [5.14454038e-01, 3.67058074e-01, 2.29369920e-01, 6.29756005e-01],\n",
       "       [1.62258973e+00, 6.32290618e-01, 1.85760539e+00, 3.60752677e-01],\n",
       "       [1.49863967e+00, 7.53833027e-01, 4.79203472e-02, 1.40698348e+00],\n",
       "       [1.25576062e+00, 1.20435022e+00, 1.43027304e+00, 6.19188018e-01],\n",
       "       [8.35393020e-01, 8.41613655e-01, 1.39673582e+00, 7.92118728e-01],\n",
       "       [1.51615499e+00, 1.29402151e+00, 3.83123413e-01, 1.56069967e+00],\n",
       "       [2.30705910e-01, 1.26512143e+00, 1.88248706e+00, 1.07169004e+00],\n",
       "       [3.10313024e-02, 8.32970639e-01, 1.39673582e+00, 6.29756005e-01],\n",
       "       [1.27094056e+00, 1.32103093e+00, 5.30505276e-01, 1.23405277e+00],\n",
       "       [6.17035408e-01, 1.24000266e+00, 1.09319265e+00, 8.30547775e-01],\n",
       "       [3.49810063e-01, 9.42898996e-01, 1.33244410e+00, 2.34897549e-01],\n",
       "       [1.59456522e+00, 1.26512143e+00, 1.22001817e+00, 2.20534693e+00],\n",
       "       [9.93206022e-01, 9.90165488e-01, 1.01931949e+00, 1.19610408e-01]])"
      ]
     },
     "execution_count": 26,
     "metadata": {},
     "output_type": "execute_result"
    }
   ],
   "source": [
    "from scipy.stats import zscore\n",
    "import numpy as np\n",
    "z=np.abs(zscore(d2))\n",
    "z"
   ]
  },
  {
   "cell_type": "code",
   "execution_count": 27,
   "metadata": {},
   "outputs": [
    {
     "name": "stdout",
     "output_type": "stream",
     "text": [
      "(array([33], dtype=int64), array([2], dtype=int64))\n"
     ]
    }
   ],
   "source": [
    "threshold=3\n",
    "print(np.where(z>3))"
   ]
  },
  {
   "cell_type": "code",
   "execution_count": 28,
   "metadata": {},
   "outputs": [
    {
     "name": "stdout",
     "output_type": "stream",
     "text": [
      "(200, 4)\n",
      "(199, 4)\n"
     ]
    }
   ],
   "source": [
    "d2_new=d2[(z<3).all(axis=1)]\n",
    "print(d2.shape)\n",
    "print(d2_new.shape)"
   ]
  },
  {
   "cell_type": "code",
   "execution_count": 29,
   "metadata": {},
   "outputs": [],
   "source": [
    "#1 row is deleted due to outliers"
   ]
  },
  {
   "cell_type": "code",
   "execution_count": 30,
   "metadata": {},
   "outputs": [
    {
     "data": {
      "text/html": [
       "<div>\n",
       "<style scoped>\n",
       "    .dataframe tbody tr th:only-of-type {\n",
       "        vertical-align: middle;\n",
       "    }\n",
       "\n",
       "    .dataframe tbody tr th {\n",
       "        vertical-align: top;\n",
       "    }\n",
       "\n",
       "    .dataframe thead th {\n",
       "        text-align: right;\n",
       "    }\n",
       "</style>\n",
       "<table border=\"1\" class=\"dataframe\">\n",
       "  <thead>\n",
       "    <tr style=\"text-align: right;\">\n",
       "      <th></th>\n",
       "      <th>TV</th>\n",
       "      <th>radio</th>\n",
       "      <th>newspaper</th>\n",
       "    </tr>\n",
       "  </thead>\n",
       "  <tbody>\n",
       "    <tr>\n",
       "      <th>1</th>\n",
       "      <td>230.1</td>\n",
       "      <td>37.8</td>\n",
       "      <td>4.251348</td>\n",
       "    </tr>\n",
       "    <tr>\n",
       "      <th>2</th>\n",
       "      <td>44.5</td>\n",
       "      <td>39.3</td>\n",
       "      <td>3.830813</td>\n",
       "    </tr>\n",
       "    <tr>\n",
       "      <th>3</th>\n",
       "      <td>17.2</td>\n",
       "      <td>45.9</td>\n",
       "      <td>4.252772</td>\n",
       "    </tr>\n",
       "    <tr>\n",
       "      <th>4</th>\n",
       "      <td>151.5</td>\n",
       "      <td>41.3</td>\n",
       "      <td>4.085976</td>\n",
       "    </tr>\n",
       "    <tr>\n",
       "      <th>5</th>\n",
       "      <td>180.8</td>\n",
       "      <td>10.8</td>\n",
       "      <td>4.084294</td>\n",
       "    </tr>\n",
       "  </tbody>\n",
       "</table>\n",
       "</div>"
      ],
      "text/plain": [
       "      TV  radio  newspaper\n",
       "1  230.1   37.8   4.251348\n",
       "2   44.5   39.3   3.830813\n",
       "3   17.2   45.9   4.252772\n",
       "4  151.5   41.3   4.085976\n",
       "5  180.8   10.8   4.084294"
      ]
     },
     "execution_count": 30,
     "metadata": {},
     "output_type": "execute_result"
    }
   ],
   "source": [
    "x=d2_new.iloc[:,0:-1]\n",
    "x.head()"
   ]
  },
  {
   "cell_type": "code",
   "execution_count": 31,
   "metadata": {},
   "outputs": [
    {
     "data": {
      "text/plain": [
       "1    22.1\n",
       "2    10.4\n",
       "3     9.3\n",
       "4    18.5\n",
       "5    12.9\n",
       "Name: sales, dtype: float64"
      ]
     },
     "execution_count": 31,
     "metadata": {},
     "output_type": "execute_result"
    }
   ],
   "source": [
    "y=d2_new.iloc[:,-1]\n",
    "y.head()"
   ]
  },
  {
   "cell_type": "code",
   "execution_count": 32,
   "metadata": {},
   "outputs": [
    {
     "name": "stdout",
     "output_type": "stream",
     "text": [
      "max r2 score corresponding to 90 is 0.9428082768842401\n"
     ]
    }
   ],
   "source": [
    "max_r_score=0\n",
    "for r_state in range(40,100):\n",
    "    x_train,x_test,y_train,y_test=train_test_split(x,y,random_state=r_state,test_size=0.20)\n",
    "    regr=linear_model.LinearRegression()\n",
    "    regr.fit(x_train,y_train)\n",
    "    y_pred=regr.predict(x_test)\n",
    "    r2_scr=r2_score(y_test,y_pred)\n",
    "    if r2_scr>max_r_score:\n",
    "        max_r_score=r2_scr\n",
    "        final_r_state=r_state\n",
    "print(\"max r2 score corresponding to\",final_r_state,\"is\",max_r_score)"
   ]
  },
  {
   "cell_type": "code",
   "execution_count": 33,
   "metadata": {},
   "outputs": [],
   "source": [
    "x_train,x_test,y_train,y_test=train_test_split(x,y,test_size=.22,random_state=90)"
   ]
  },
  {
   "cell_type": "code",
   "execution_count": 34,
   "metadata": {},
   "outputs": [
    {
     "data": {
      "text/plain": [
       "(155, 3)"
      ]
     },
     "execution_count": 34,
     "metadata": {},
     "output_type": "execute_result"
    }
   ],
   "source": [
    "x_train.shape"
   ]
  },
  {
   "cell_type": "code",
   "execution_count": 35,
   "metadata": {},
   "outputs": [
    {
     "data": {
      "text/plain": [
       "(44, 3)"
      ]
     },
     "execution_count": 35,
     "metadata": {},
     "output_type": "execute_result"
    }
   ],
   "source": [
    "x_test.shape"
   ]
  },
  {
   "cell_type": "code",
   "execution_count": 36,
   "metadata": {},
   "outputs": [
    {
     "data": {
      "text/plain": [
       "(155,)"
      ]
     },
     "execution_count": 36,
     "metadata": {},
     "output_type": "execute_result"
    }
   ],
   "source": [
    "y_train.shape"
   ]
  },
  {
   "cell_type": "code",
   "execution_count": 37,
   "metadata": {},
   "outputs": [
    {
     "data": {
      "text/plain": [
       "(44,)"
      ]
     },
     "execution_count": 37,
     "metadata": {},
     "output_type": "execute_result"
    }
   ],
   "source": [
    "y_test.shape"
   ]
  },
  {
   "cell_type": "code",
   "execution_count": 38,
   "metadata": {},
   "outputs": [
    {
     "data": {
      "text/plain": [
       "array([[ 9.79089948e-01,  9.78080220e-01,  1.28730630e+00],\n",
       "       [-1.19319934e+00,  1.07912436e+00,  7.87741098e-01],\n",
       "       [-1.51272249e+00,  1.52371859e+00,  1.28899730e+00],\n",
       "       [ 5.91441612e-02,  1.21384989e+00,  1.09085648e+00],\n",
       "       [ 4.02075606e-01, -8.40714347e-01,  1.08885829e+00],\n",
       "       [-1.61220773e+00,  1.72580688e+00,  1.38160990e+00],\n",
       "       [-1.04104546e+00,  6.41266412e-01,  3.68052853e-02],\n",
       "       [-3.07195573e-01, -2.47922044e-01, -7.53137850e-01],\n",
       "       [-1.61337814e+00, -1.42677037e+00, -2.93957598e+00],\n",
       "       [ 6.24454358e-01, -1.39308899e+00, -8.03015175e-02],\n",
       "       [-9.40389811e-01, -1.17752816e+00,  7.02702235e-02],\n",
       "       [ 7.98846117e-01,  4.84741080e-02, -1.85108972e+00],\n",
       "       [-1.43547514e+00,  7.96200764e-01,  1.23010841e+00],\n",
       "       [-5.72879662e-01, -1.05627519e+00, -1.26342682e+00],\n",
       "       [ 6.74782181e-01,  6.48002688e-01,  8.10709248e-01],\n",
       "       [ 5.72956121e-01,  1.64497156e+00,  9.73434870e-01],\n",
       "       [-9.20492764e-01,  8.97244906e-01,  1.87364772e+00],\n",
       "       [ 1.57951258e+00,  1.09933319e+00,  1.03568918e+00],\n",
       "       [-9.04106962e-01, -1.87295558e-01, -2.46596048e-01],\n",
       "       [ 9.98675276e-03,  4.17378318e-02, -1.98348737e-01],\n",
       "       [ 8.42151453e-01,  2.97716327e-01,  9.84403801e-01],\n",
       "       [ 1.06453021e+00, -1.22468209e+00,  3.68052853e-02],\n",
       "       [-1.55953907e+00, -4.97164262e-01,  8.98382963e-01],\n",
       "       [ 9.58022487e-01, -4.29801501e-01,  1.60995728e-01],\n",
       "       [-9.84865561e-01, -7.19461376e-01, -2.46596048e-01],\n",
       "       [ 1.36298590e+00, -1.33246251e+00, -1.74940556e-01],\n",
       "       [-4.15114847e-02,  4.05496745e-01, -6.62412346e-01],\n",
       "       [ 1.09613140e+00, -4.43274053e-01,  7.35104725e-03],\n",
       "       [ 1.19795746e+00,  2.57298669e-01,  7.35104725e-03],\n",
       "       [-8.87721159e-01, -4.90427986e-01,  6.71423338e-01],\n",
       "       [ 1.71411025e+00,  3.38133984e-01,  7.37743446e-01],\n",
       "       [-3.92635831e-01, -3.96120120e-01,  6.07195440e-01],\n",
       "       [-5.76390905e-01, -1.46718803e+00,  3.16341182e-01],\n",
       "       [-5.93947123e-01, -1.47392431e+00, -1.23480070e+00],\n",
       "       [ 1.68836113e+00, -1.29204485e+00, -1.08861432e+00],\n",
       "       [ 1.40980248e+00,  1.38225679e+00, -1.63450506e+00],\n",
       "       [-8.39734165e-01,  1.75948826e+00,  8.03102434e-01],\n",
       "       [-1.20958514e+00,  2.30353565e-01,  4.97269150e-01],\n",
       "       [ 9.54511244e-01,  9.71343944e-01,  3.90610787e-01],\n",
       "       [ 6.56055550e-01, -6.60425870e-02,  3.76123696e-01],\n",
       "       [ 3.57599855e-01,  6.81684069e-01,  6.10191474e-01],\n",
       "       [ 1.72230315e+00,  2.97716327e-01, -2.53987161e+00],\n",
       "       [ 7.07553787e-01, -1.00238498e+00,  1.69698526e-01],\n",
       "       [-1.42025975e+00,  1.62990803e-01,  7.40428028e-01],\n",
       "       [ 3.35361980e-01, -5.25700347e-02,  3.72474148e-01],\n",
       "       [-6.64171992e-01, -9.01340833e-01,  5.16850804e-01],\n",
       "       [ 1.09379057e+00,  1.22732244e+00, -2.34349272e-01],\n",
       "       [ 9.45147928e-01, -5.03900539e-01,  9.05405211e-01],\n",
       "       [-9.31026495e-01, -7.80087862e-01,  5.51933069e-01],\n",
       "       [ 6.24454358e-01, -1.35940761e+00,  4.80700866e-01],\n",
       "       [-5.38937642e-01, -9.21549662e-01, -1.95014096e+00],\n",
       "       [ 8.18743163e-01,  1.24079499e+00,  6.36821084e-01],\n",
       "       [ 4.23143067e-01,  1.54392742e+00,  1.09484282e+00],\n",
       "       [ 1.36064507e+00,  3.71815364e-01, -4.04342591e-01],\n",
       "       [ 6.13920628e-01,  1.75948826e+00,  1.12043295e+00],\n",
       "       [-1.62859353e+00,  3.24661431e-01,  6.88353697e-01],\n",
       "       [-1.19929255e-01, -2.74867149e-01, -3.56130252e-01],\n",
       "       [ 7.53199952e-01,  1.77296081e+00,  5.79885576e-01],\n",
       "       [ 7.52029538e-01,  4.18969298e-01, -9.92567952e-01],\n",
       "       [-1.08786204e+00, -1.43350665e+00, -6.96473946e-02],\n",
       "       [ 1.34425927e+00,  1.30815775e+00,  1.01245787e+00],\n",
       "       [ 1.08676808e+00, -5.24109367e-01,  2.08090883e-01],\n",
       "       [-5.12018108e-01,  4.25705574e-01, -1.10118509e+00],\n",
       "       [-1.79620394e-01,  1.31489403e+00,  2.73422905e-01],\n",
       "       [-9.06447791e-01, -9.41758490e-01, -3.00050866e+00],\n",
       "       [-1.34535322e+00,  8.88917650e-02, -2.38124610e+00],\n",
       "       [-8.36464062e-02, -5.91472129e-01, -8.93055468e-01],\n",
       "       [ 1.06453021e+00,  2.84243774e-01, -8.11096991e-01],\n",
       "       [ 8.23424821e-01,  1.38899307e+00,  2.03885828e-01],\n",
       "       [ 6.16261457e-01,  4.93068336e-01,  6.10191474e-01],\n",
       "       [-4.28918680e-01, -6.04944681e-01,  3.79762065e-01],\n",
       "       [-1.40036270e+00,  6.54738964e-01, -1.86586990e-01],\n",
       "       [-1.99517440e-01, -1.18426443e+00,  3.65141244e-01],\n",
       "       [ 7.83630729e-01,  8.88917650e-02, -6.19522245e-01],\n",
       "       [-1.51623374e+00,  1.37552051e+00,  1.58772817e+00],\n",
       "       [-1.39216980e+00, -1.46045176e+00, -1.07362522e-01],\n",
       "       [-3.03684330e-01,  3.51606536e-01, -5.30284439e-01],\n",
       "       [-1.65083140e+00,  4.45914402e-01, -9.81090310e-01],\n",
       "       [-3.56352982e-01, -1.04953891e+00,  1.72504941e-02],\n",
       "       [-8.19837119e-01,  2.30353565e-01, -2.28521071e-02],\n",
       "       [ 1.09262015e+00, -1.29204485e+00,  5.55071583e-01],\n",
       "       [-8.32711678e-01, -2.00768111e-01,  4.08474683e-01],\n",
       "       [-9.13470278e-01,  1.42941072e+00,  5.13609528e-01],\n",
       "       [ 7.84801143e-01,  1.32836658e+00,  4.53701368e-01],\n",
       "       [ 5.47207002e-01, -3.28757358e-01,  1.22655174e+00],\n",
       "       [-8.21007533e-01,  2.84243774e-01, -3.97334154e-01],\n",
       "       [-4.18384950e-01,  1.16669595e+00,  1.18117087e+00],\n",
       "       [-6.80557795e-01,  1.49518251e-01,  1.35633391e+00],\n",
       "       [-4.28918680e-01,  1.65170784e+00,  9.39906961e-01],\n",
       "       [-1.42167131e-01, -1.23815464e+00, -9.92567952e-01],\n",
       "       [-1.37929524e+00, -1.46718803e+00,  4.26073920e-01],\n",
       "       [ 8.33958552e-01,  6.88420345e-01,  1.10079735e+00],\n",
       "       [ 1.22253616e+00,  8.90508630e-01,  1.33863934e+00],\n",
       "       [-4.57008628e-01, -6.25153510e-01, -8.21037858e-01],\n",
       "       [ 1.97253071e-01,  5.60431097e-01,  9.73434870e-01],\n",
       "       [ 5.98705240e-01, -1.33246251e+00, -1.46847812e+00],\n",
       "       [ 4.50062600e-01, -1.53614177e-01, -3.82466216e-02],\n",
       "       [ 1.67665698e+00,  1.28121265e+00,  9.35364214e-01],\n",
       "       [-1.31633400e-01,  1.24079499e+00,  8.08179052e-01],\n",
       "       [ 8.88968033e-01, -1.27857230e+00,  9.03069071e-01],\n",
       "       [ 1.75507475e+00,  8.77036078e-01,  1.72997963e+00],\n",
       "       [ 1.56546761e+00, -8.87868281e-01, -6.96473946e-02],\n",
       "       [ 4.85175035e-01, -4.09592672e-01, -2.71475004e-01],\n",
       "       [ 1.07389352e+00,  7.42310554e-01, -1.57654592e+00],\n",
       "       [-1.00032209e-01,  1.55739997e+00,  1.10079735e+00],\n",
       "       [-1.42143016e+00, -8.27241795e-01,  3.04789130e-01],\n",
       "       [-6.55979090e-01, -1.54802335e+00,  2.21694524e-02],\n",
       "       [-1.56070949e+00, -1.54128707e+00,  1.34498122e-01],\n",
       "       [ 1.27520481e+00,  2.43826117e-01, -1.53942019e+00],\n",
       "       [ 9.28762125e-01, -1.01585753e+00,  1.05023964e+00],\n",
       "       [ 1.11485803e+00,  9.91552773e-01,  2.21694524e-02],\n",
       "       [ 3.42384467e-01, -5.30845643e-01, -2.30922849e+00],\n",
       "       [ 7.39154978e-01, -1.80559282e-01, -8.41172692e-01],\n",
       "       [-7.98769658e-01,  1.58434508e+00,  4.77359297e-01],\n",
       "       [-8.35052507e-01,  7.89464487e-01,  9.69018781e-01],\n",
       "       [-8.48168207e-02, -6.04944681e-01,  1.34498122e-01],\n",
       "       [-8.19837119e-01, -1.51434197e+00, -4.84294435e-01],\n",
       "       [-2.42822776e-01,  9.17453735e-01,  1.44550869e+00],\n",
       "       [-1.48697338e+00, -4.90427986e-01, -2.28521071e-02],\n",
       "       [-6.02381165e-02,  2.37089841e-01,  8.15753531e-01],\n",
       "       [-1.49399586e+00, -1.06460244e-01,  9.17017491e-01],\n",
       "       [ 9.07694664e-01, -1.40656155e+00, -4.25619460e-01],\n",
       "       [-2.73253553e-01,  7.62519383e-01, -6.80011583e-01],\n",
       "       [ 9.72067461e-01,  6.07585031e-01,  1.36903913e+00],\n",
       "       [-6.93432354e-01, -7.73351586e-01,  1.47820804e-01],\n",
       "       [-1.62274146e+00,  1.05217926e+00,  9.21630804e-01],\n",
       "       [-7.75361368e-01, -1.56823217e+00, -1.00415757e+00],\n",
       "       [ 8.64389328e-01,  1.73254315e+00, -2.05820877e+00],\n",
       "       [-1.01646675e+00, -7.59879033e-01,  7.35052784e-01],\n",
       "       [-1.70584089e+00,  1.09933319e+00, -1.06386495e+00],\n",
       "       [ 1.38990543e+00, -1.37288017e+00,  7.32356014e-01],\n",
       "       [-1.61571897e+00,  2.64034946e-01, -2.41896123e+00],\n",
       "       [ 8.58537256e-01,  6.88420345e-01,  7.87741098e-01],\n",
       "       [-1.28215084e+00,  1.03197043e+00,  1.22476940e+00],\n",
       "       [-1.14872359e+00,  1.59781763e+00, -1.08861432e+00],\n",
       "       [-1.41440768e+00,  1.05891553e+00, -9.92567952e-01],\n",
       "       [ 1.48939066e+00,  3.78551641e-01,  1.11457627e+00],\n",
       "       [-1.21075556e+00,  1.76463355e-01, -1.18361923e-01],\n",
       "       [ 4.50062600e-01,  1.38899307e+00, -2.58307371e+00],\n",
       "       [-8.54949553e-01, -4.23065224e-01, -6.36492916e-01],\n",
       "       [ 5.53059075e-01,  8.16409592e-01,  1.39095144e+00],\n",
       "       [ 8.66730157e-01,  6.68211516e-01,  5.86008924e-01],\n",
       "       [-4.89780233e-01, -1.18426443e+00,  4.74008303e-01],\n",
       "       [-5.88095050e-01, -5.71263300e-01,  6.16160967e-01],\n",
       "       [-7.19422613e-02, -1.44024293e+00, -1.02768164e+00],\n",
       "       [ 1.09613140e+00, -1.07648401e+00, -1.06386495e+00],\n",
       "       [ 1.13241425e+00,  1.73254315e+00,  7.66945351e-01],\n",
       "       [-1.26927628e+00,  1.14648712e+00, -7.25185343e-01],\n",
       "       [-1.19085851e+00,  1.69727079e-01, -1.12849492e-01],\n",
       "       [ 1.57131968e+00, -6.31889786e-01,  5.58201826e-01],\n",
       "       [-2.97832257e-01, -1.00238498e+00,  8.77063666e-01],\n",
       "       [ 5.98705240e-01,  1.32017473e-03, -5.30284439e-01],\n",
       "       [ 2.90886230e-01,  1.10606947e+00,  5.79885576e-01],\n",
       "       [ 4.84004620e-01, -1.46877901e-01, -9.69722503e-01],\n",
       "       [-1.66604679e+00, -7.86824138e-01, -1.50341966e+00],\n",
       "       [-6.15014583e-01,  1.36204796e+00,  9.19326387e-01],\n",
       "       [ 3.92471149e-02, -1.48066058e+00,  7.49748900e-02],\n",
       "       [-1.57709529e+00,  9.17453735e-01,  7.90315155e-01],\n",
       "       [-1.72597907e-01, -3.28757358e-01,  4.80700866e-01],\n",
       "       [ 3.04931204e-01, -3.48966186e-01,  3.42866965e-01],\n",
       "       [-7.10988571e-01,  8.43354697e-01,  8.91318958e-01],\n",
       "       [ 4.91027107e-01, -3.48966186e-01,  1.34498122e-01],\n",
       "       [ 1.99593900e-01,  9.10717459e-01, -1.23480070e+00],\n",
       "       [-3.42308008e-01, -5.77999576e-01, -1.55783803e+00],\n",
       "       [ 1.03058819e+00, -1.33919878e+00,  1.52568839e+00],\n",
       "       [-1.50452959e+00,  9.64607668e-01, -5.90879762e-02],\n",
       "       [ 7.06383373e-01, -1.21794581e+00, -1.80749500e-01],\n",
       "       [ 8.07039018e-01,  2.15290033e-02,  1.07275056e+00],\n",
       "       [ 1.61345460e+00, -8.54186900e-01, -1.38537244e+00],\n",
       "       [-1.12882654e+00, -7.86824138e-01, -2.40456878e-01],\n",
       "       [ 2.11298045e-01, -1.60350454e-01,  8.45577526e-01],\n",
       "       [-1.48463255e+00, -2.14240663e-01, -3.29434145e-01],\n",
       "       [ 2.56944210e-01, -1.08995657e+00, -6.45070042e-01],\n",
       "       [ 8.88968033e-01, -1.33919878e+00, -6.19522245e-01],\n",
       "       [ 1.52684393e+00,  1.72580688e+00,  6.99508021e-01],\n",
       "       [ 1.19327580e+00,  4.66123231e-01, -1.29464123e-01],\n",
       "       [ 2.78011670e-01, -1.04280263e+00,  5.00555257e-01],\n",
       "       [ 1.52450310e+00, -1.41329782e+00,  4.64632795e-02],\n",
       "       [ 2.24172604e-01, -8.94604557e-01, -2.90482238e-01],\n",
       "       [ 1.18835300e-01, -1.39308899e+00, -1.11389031e+00],\n",
       "       [ 8.43321868e-01, -1.20447326e+00,  2.12281105e-01],\n",
       "       [-1.05626084e+00, -1.18426443e+00,  3.04789130e-01],\n",
       "       [ 1.65207828e+00,  1.32836658e+00,  1.33050840e+00],\n",
       "       [ 1.25647818e+00, -1.33405349e-01,  3.16341182e-01],\n",
       "       [ 6.85315912e-01,  1.46982838e+00, -1.69159879e-01],\n",
       "       [-8.13055772e-02, -1.42677037e+00,  1.78338032e-01],\n",
       "       [ 5.22628298e-01,  3.65079088e-01, -2.52767110e-01],\n",
       "       [ 1.63335165e+00, -6.31889786e-01, -1.92459316e+00],\n",
       "       [-1.49516628e+00, -7.53142757e-01,  3.19466825e-02],\n",
       "       [-1.25172006e+00,  1.20037733e+00, -1.48582042e+00],\n",
       "       [-8.30370849e-01, -8.40714347e-01, -1.45138535e+00],\n",
       "       [-1.51272249e+00, -1.29204485e+00,  3.76123696e-01],\n",
       "       [ 2.38217578e-01,  1.26100382e+00, -1.95014096e+00],\n",
       "       [ 3.80767004e-02,  8.29882144e-01, -1.45138535e+00],\n",
       "       [-1.26693545e+00, -1.31898996e+00, -5.61964363e-01],\n",
       "       [-6.11503340e-01, -1.23815464e+00, -1.13971582e+00],\n",
       "       [ 3.57599855e-01, -9.41758490e-01, -1.38537244e+00],\n",
       "       [ 1.60526170e+00,  1.26100382e+00,  1.23542352e+00],\n",
       "       [ 1.00249824e+00, -9.88912423e-01, -1.06386495e+00]])"
      ]
     },
     "execution_count": 38,
     "metadata": {},
     "output_type": "execute_result"
    }
   ],
   "source": [
    "from sklearn.preprocessing import StandardScaler\n",
    "sc=StandardScaler()\n",
    "x=sc.fit_transform(x)\n",
    "x"
   ]
  },
  {
   "cell_type": "code",
   "execution_count": 39,
   "metadata": {},
   "outputs": [],
   "source": [
    "lm=LinearRegression()"
   ]
  },
  {
   "cell_type": "code",
   "execution_count": 40,
   "metadata": {},
   "outputs": [
    {
     "data": {
      "text/plain": [
       "LinearRegression()"
      ]
     },
     "execution_count": 40,
     "metadata": {},
     "output_type": "execute_result"
    }
   ],
   "source": [
    "lm.fit(x_train,y_train)"
   ]
  },
  {
   "cell_type": "code",
   "execution_count": 41,
   "metadata": {},
   "outputs": [
    {
     "data": {
      "text/plain": [
       "array([0.04584856, 0.18229675, 0.06378914])"
      ]
     },
     "execution_count": 41,
     "metadata": {},
     "output_type": "execute_result"
    }
   ],
   "source": [
    "lm.coef_"
   ]
  },
  {
   "cell_type": "code",
   "execution_count": 42,
   "metadata": {},
   "outputs": [
    {
     "data": {
      "text/plain": [
       "2.786452216027671"
      ]
     },
     "execution_count": 42,
     "metadata": {},
     "output_type": "execute_result"
    }
   ],
   "source": [
    "lm.intercept_"
   ]
  },
  {
   "cell_type": "code",
   "execution_count": 43,
   "metadata": {},
   "outputs": [
    {
     "data": {
      "text/plain": [
       "0.8860766523834641"
      ]
     },
     "execution_count": 43,
     "metadata": {},
     "output_type": "execute_result"
    }
   ],
   "source": [
    "lm.score(x_train,y_train)"
   ]
  },
  {
   "cell_type": "code",
   "execution_count": 44,
   "metadata": {},
   "outputs": [
    {
     "name": "stdout",
     "output_type": "stream",
     "text": [
      "predicted strength: [15.29209375 14.8046551  10.1634715  14.89235096 23.71397206 22.80718405\n",
      " 20.33555128 16.78694435 20.69515204 20.9985811  21.36288884 23.12232615\n",
      " 16.28843549  9.71224935 12.86972098 16.30851914 20.64030772 12.23533982\n",
      "  9.14555046 11.6061186  18.18780187 11.75834394 11.47858645 14.90342695\n",
      "  9.17822701 13.40823652  5.38425324  8.77636332 16.81624621  8.48271278\n",
      " 11.98470222 19.3362756  20.86549461  7.53362306 13.4918239  15.27297103\n",
      " 16.5452036  12.24073528  9.98593375 16.35826504  9.71156105 14.93317917\n",
      " 13.77177879 12.03208813]\n",
      "actual strength: 98     15.5\n",
      "22     12.5\n",
      "83     11.3\n",
      "111    13.4\n",
      "199    25.5\n",
      "62     24.2\n",
      "40     21.5\n",
      "90     16.7\n",
      "16     22.4\n",
      "112    21.8\n",
      "43     20.7\n",
      "37     25.4\n",
      "96     16.9\n",
      "146    10.3\n",
      "17     12.5\n",
      "114    15.9\n",
      "85     21.7\n",
      "2      10.4\n",
      "126    10.6\n",
      "7      11.8\n",
      "194    19.6\n",
      "89     12.9\n",
      "87     12.0\n",
      "124    15.2\n",
      "30     10.5\n",
      "168    12.2\n",
      "196     7.6\n",
      "14      9.7\n",
      "65     18.0\n",
      "57      5.5\n",
      "117    12.2\n",
      "29     18.9\n",
      "138    20.8\n",
      "173     7.6\n",
      "162    13.3\n",
      "157    15.3\n",
      "24     15.5\n",
      "178    11.7\n",
      "91     11.2\n",
      "41     16.6\n",
      "80     11.0\n",
      "163    14.9\n",
      "175    11.5\n",
      "8      13.2\n",
      "Name: sales, dtype: float64\n"
     ]
    }
   ],
   "source": [
    "pred=lm.predict(x_test)\n",
    "print('predicted strength:',pred)\n",
    "print('actual strength:',y_test)"
   ]
  },
  {
   "cell_type": "code",
   "execution_count": 45,
   "metadata": {},
   "outputs": [
    {
     "name": "stdout",
     "output_type": "stream",
     "text": [
      "error:\n",
      "mean absolute error: 0.9898289228889738\n",
      "mean squared error: 1.5118526120036575\n",
      "root mean squared error: 1.2295741588060711\n"
     ]
    }
   ],
   "source": [
    "print('error:')\n",
    "print('mean absolute error:',mean_absolute_error(y_test,pred))\n",
    "print('mean squared error:',mean_squared_error(y_test,pred))\n",
    "print('root mean squared error:',np.sqrt(mean_squared_error(y_test,pred)))"
   ]
  },
  {
   "cell_type": "code",
   "execution_count": 46,
   "metadata": {},
   "outputs": [
    {
     "name": "stdout",
     "output_type": "stream",
     "text": [
      "0.9367431563937997\n"
     ]
    }
   ],
   "source": [
    "print(r2_score(y_test,pred))"
   ]
  },
  {
   "cell_type": "code",
   "execution_count": 47,
   "metadata": {},
   "outputs": [
    {
     "name": "stdout",
     "output_type": "stream",
     "text": [
      "[0.87888883 0.91835061 0.92756994 0.81688795 0.89430545]\n",
      "0.8872005567864953 0.039149558569899504\n"
     ]
    }
   ],
   "source": [
    "from sklearn.model_selection import cross_val_score\n",
    "lmscores=cross_val_score(lm,x,y,cv=5)\n",
    "print(lmscores)\n",
    "print(lmscores.mean(),lmscores.std())"
   ]
  },
  {
   "cell_type": "code",
   "execution_count": 48,
   "metadata": {},
   "outputs": [],
   "source": [
    "from sklearn.linear_model import LinearRegression,Lasso,Ridge"
   ]
  },
  {
   "cell_type": "code",
   "execution_count": 49,
   "metadata": {},
   "outputs": [
    {
     "data": {
      "text/plain": [
       "0.8860766016286181"
      ]
     },
     "execution_count": 49,
     "metadata": {},
     "output_type": "execute_result"
    }
   ],
   "source": [
    "from sklearn .linear_model import Lasso,Ridge, ElasticNet\n",
    "ls=Lasso(alpha=.001)\n",
    "ls.fit(x_train,y_train)\n",
    "ls.score(x_train,y_train)"
   ]
  },
  {
   "cell_type": "code",
   "execution_count": 50,
   "metadata": {},
   "outputs": [
    {
     "data": {
      "text/plain": [
       "array([0.0458497 , 0.18231228, 0.06236344])"
      ]
     },
     "execution_count": 50,
     "metadata": {},
     "output_type": "execute_result"
    }
   ],
   "source": [
    "ls.coef_"
   ]
  },
  {
   "cell_type": "code",
   "execution_count": 51,
   "metadata": {},
   "outputs": [
    {
     "name": "stdout",
     "output_type": "stream",
     "text": [
      "[0.87893109 0.9183462  0.92762958 0.81692747 0.89431184]\n",
      "0.8872292359115368 0.039145403604411676\n"
     ]
    }
   ],
   "source": [
    "lscores=cross_val_score(ls,x,y,cv=5)\n",
    "print(lscores)\n",
    "print(lscores.mean(),lscores.std())"
   ]
  },
  {
   "cell_type": "code",
   "execution_count": 52,
   "metadata": {},
   "outputs": [
    {
     "data": {
      "text/plain": [
       "0.8860766523834641"
      ]
     },
     "execution_count": 52,
     "metadata": {},
     "output_type": "execute_result"
    }
   ],
   "source": [
    "rd=Ridge(alpha=.0001)\n",
    "rd.fit(x_train,y_train)\n",
    "rd.score(x_train,y_train)"
   ]
  },
  {
   "cell_type": "code",
   "execution_count": 53,
   "metadata": {},
   "outputs": [
    {
     "data": {
      "text/plain": [
       "array([0.04584856, 0.18229675, 0.06378908])"
      ]
     },
     "execution_count": 53,
     "metadata": {},
     "output_type": "execute_result"
    }
   ],
   "source": [
    "rd.coef_"
   ]
  },
  {
   "cell_type": "code",
   "execution_count": 54,
   "metadata": {},
   "outputs": [
    {
     "name": "stdout",
     "output_type": "stream",
     "text": [
      "[0.87888884 0.91835057 0.92757005 0.81688788 0.8943055 ]\n",
      "0.8872005679806072 0.039149603062613\n"
     ]
    }
   ],
   "source": [
    "rdscores=cross_val_score(rd,x,y,cv=5)\n",
    "print(rdscores)\n",
    "print(rdscores.mean(),rdscores.std())"
   ]
  },
  {
   "cell_type": "code",
   "execution_count": 55,
   "metadata": {},
   "outputs": [
    {
     "name": "stdout",
     "output_type": "stream",
     "text": [
      "0.886076638081434\n"
     ]
    },
    {
     "data": {
      "text/plain": [
       "array([0.04584917, 0.1823047 , 0.06303263])"
      ]
     },
     "execution_count": 55,
     "metadata": {},
     "output_type": "execute_result"
    }
   ],
   "source": [
    "enr=ElasticNet(alpha=.001)\n",
    "enr.fit(x_train,y_train)\n",
    "enrpred=enr.predict(x_test)\n",
    "print(enr.score(x_train,y_train))\n",
    "enr.coef_"
   ]
  },
  {
   "cell_type": "code",
   "execution_count": 56,
   "metadata": {},
   "outputs": [
    {
     "name": "stdout",
     "output_type": "stream",
     "text": [
      "[0.87891328 0.91831565 0.92769158 0.81685161 0.89434639]\n",
      "0.8872237016054356 0.039182612139761056\n"
     ]
    }
   ],
   "source": [
    "enrscores=cross_val_score(enr,x,y,cv=5)\n",
    "print(enrscores)\n",
    "print(enrscores.mean(),enrscores.std())"
   ]
  },
  {
   "cell_type": "code",
   "execution_count": 57,
   "metadata": {},
   "outputs": [
    {
     "data": {
      "text/plain": [
       "['enr_sales channel.pkl']"
      ]
     },
     "execution_count": 57,
     "metadata": {},
     "output_type": "execute_result"
    }
   ],
   "source": [
    "import joblib\n",
    "joblib.dump(enr,'enr_sales channel.pkl')"
   ]
  },
  {
   "cell_type": "code",
   "execution_count": null,
   "metadata": {},
   "outputs": [],
   "source": []
  }
 ],
 "metadata": {
  "kernelspec": {
   "display_name": "Python 3",
   "language": "python",
   "name": "python3"
  },
  "language_info": {
   "codemirror_mode": {
    "name": "ipython",
    "version": 3
   },
   "file_extension": ".py",
   "mimetype": "text/x-python",
   "name": "python",
   "nbconvert_exporter": "python",
   "pygments_lexer": "ipython3",
   "version": "3.8.3"
  }
 },
 "nbformat": 4,
 "nbformat_minor": 4
}
